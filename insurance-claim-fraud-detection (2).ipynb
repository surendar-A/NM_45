{
 "cells": [
  {
   "cell_type": "code",
   "execution_count": 1,
   "metadata": {},
   "outputs": [
    {
     "data": {
      "text/html": [
       "<div>\n",
       "<style scoped>\n",
       "    .dataframe tbody tr th:only-of-type {\n",
       "        vertical-align: middle;\n",
       "    }\n",
       "\n",
       "    .dataframe tbody tr th {\n",
       "        vertical-align: top;\n",
       "    }\n",
       "\n",
       "    .dataframe thead th {\n",
       "        text-align: right;\n",
       "    }\n",
       "</style>\n",
       "<table border=\"1\" class=\"dataframe\">\n",
       "  <thead>\n",
       "    <tr style=\"text-align: right;\">\n",
       "      <th></th>\n",
       "      <th>months_as_customer</th>\n",
       "      <th>age</th>\n",
       "      <th>policy_number</th>\n",
       "      <th>policy_bind_date</th>\n",
       "      <th>policy_state</th>\n",
       "      <th>policy_csl</th>\n",
       "      <th>policy_deductable</th>\n",
       "      <th>policy_annual_premium</th>\n",
       "      <th>umbrella_limit</th>\n",
       "      <th>insured_zip</th>\n",
       "      <th>...</th>\n",
       "      <th>police_report_available</th>\n",
       "      <th>total_claim_amount</th>\n",
       "      <th>injury_claim</th>\n",
       "      <th>property_claim</th>\n",
       "      <th>vehicle_claim</th>\n",
       "      <th>auto_make</th>\n",
       "      <th>auto_model</th>\n",
       "      <th>auto_year</th>\n",
       "      <th>fraud_reported</th>\n",
       "      <th>_c39</th>\n",
       "    </tr>\n",
       "  </thead>\n",
       "  <tbody>\n",
       "    <tr>\n",
       "      <td>0</td>\n",
       "      <td>328</td>\n",
       "      <td>48</td>\n",
       "      <td>521585</td>\n",
       "      <td>2014-10-17</td>\n",
       "      <td>OH</td>\n",
       "      <td>250/500</td>\n",
       "      <td>1000</td>\n",
       "      <td>1406.91</td>\n",
       "      <td>0</td>\n",
       "      <td>466132</td>\n",
       "      <td>...</td>\n",
       "      <td>YES</td>\n",
       "      <td>71610</td>\n",
       "      <td>6510</td>\n",
       "      <td>13020</td>\n",
       "      <td>52080</td>\n",
       "      <td>Saab</td>\n",
       "      <td>92x</td>\n",
       "      <td>2004</td>\n",
       "      <td>Y</td>\n",
       "      <td>NaN</td>\n",
       "    </tr>\n",
       "    <tr>\n",
       "      <td>1</td>\n",
       "      <td>228</td>\n",
       "      <td>42</td>\n",
       "      <td>342868</td>\n",
       "      <td>2006-06-27</td>\n",
       "      <td>IN</td>\n",
       "      <td>250/500</td>\n",
       "      <td>2000</td>\n",
       "      <td>1197.22</td>\n",
       "      <td>5000000</td>\n",
       "      <td>468176</td>\n",
       "      <td>...</td>\n",
       "      <td>?</td>\n",
       "      <td>5070</td>\n",
       "      <td>780</td>\n",
       "      <td>780</td>\n",
       "      <td>3510</td>\n",
       "      <td>Mercedes</td>\n",
       "      <td>E400</td>\n",
       "      <td>2007</td>\n",
       "      <td>Y</td>\n",
       "      <td>NaN</td>\n",
       "    </tr>\n",
       "    <tr>\n",
       "      <td>2</td>\n",
       "      <td>134</td>\n",
       "      <td>29</td>\n",
       "      <td>687698</td>\n",
       "      <td>2000-09-06</td>\n",
       "      <td>OH</td>\n",
       "      <td>100/300</td>\n",
       "      <td>2000</td>\n",
       "      <td>1413.14</td>\n",
       "      <td>5000000</td>\n",
       "      <td>430632</td>\n",
       "      <td>...</td>\n",
       "      <td>NO</td>\n",
       "      <td>34650</td>\n",
       "      <td>7700</td>\n",
       "      <td>3850</td>\n",
       "      <td>23100</td>\n",
       "      <td>Dodge</td>\n",
       "      <td>RAM</td>\n",
       "      <td>2007</td>\n",
       "      <td>N</td>\n",
       "      <td>NaN</td>\n",
       "    </tr>\n",
       "    <tr>\n",
       "      <td>3</td>\n",
       "      <td>256</td>\n",
       "      <td>41</td>\n",
       "      <td>227811</td>\n",
       "      <td>1990-05-25</td>\n",
       "      <td>IL</td>\n",
       "      <td>250/500</td>\n",
       "      <td>2000</td>\n",
       "      <td>1415.74</td>\n",
       "      <td>6000000</td>\n",
       "      <td>608117</td>\n",
       "      <td>...</td>\n",
       "      <td>NO</td>\n",
       "      <td>63400</td>\n",
       "      <td>6340</td>\n",
       "      <td>6340</td>\n",
       "      <td>50720</td>\n",
       "      <td>Chevrolet</td>\n",
       "      <td>Tahoe</td>\n",
       "      <td>2014</td>\n",
       "      <td>Y</td>\n",
       "      <td>NaN</td>\n",
       "    </tr>\n",
       "    <tr>\n",
       "      <td>4</td>\n",
       "      <td>228</td>\n",
       "      <td>44</td>\n",
       "      <td>367455</td>\n",
       "      <td>2014-06-06</td>\n",
       "      <td>IL</td>\n",
       "      <td>500/1000</td>\n",
       "      <td>1000</td>\n",
       "      <td>1583.91</td>\n",
       "      <td>6000000</td>\n",
       "      <td>610706</td>\n",
       "      <td>...</td>\n",
       "      <td>NO</td>\n",
       "      <td>6500</td>\n",
       "      <td>1300</td>\n",
       "      <td>650</td>\n",
       "      <td>4550</td>\n",
       "      <td>Accura</td>\n",
       "      <td>RSX</td>\n",
       "      <td>2009</td>\n",
       "      <td>N</td>\n",
       "      <td>NaN</td>\n",
       "    </tr>\n",
       "  </tbody>\n",
       "</table>\n",
       "<p>5 rows × 40 columns</p>\n",
       "</div>"
      ],
      "text/plain": [
       "   months_as_customer  age  policy_number policy_bind_date policy_state  \\\n",
       "0                 328   48         521585       2014-10-17           OH   \n",
       "1                 228   42         342868       2006-06-27           IN   \n",
       "2                 134   29         687698       2000-09-06           OH   \n",
       "3                 256   41         227811       1990-05-25           IL   \n",
       "4                 228   44         367455       2014-06-06           IL   \n",
       "\n",
       "  policy_csl  policy_deductable  policy_annual_premium  umbrella_limit  \\\n",
       "0    250/500               1000                1406.91               0   \n",
       "1    250/500               2000                1197.22         5000000   \n",
       "2    100/300               2000                1413.14         5000000   \n",
       "3    250/500               2000                1415.74         6000000   \n",
       "4   500/1000               1000                1583.91         6000000   \n",
       "\n",
       "   insured_zip  ... police_report_available total_claim_amount injury_claim  \\\n",
       "0       466132  ...                     YES              71610         6510   \n",
       "1       468176  ...                       ?               5070          780   \n",
       "2       430632  ...                      NO              34650         7700   \n",
       "3       608117  ...                      NO              63400         6340   \n",
       "4       610706  ...                      NO               6500         1300   \n",
       "\n",
       "  property_claim vehicle_claim  auto_make  auto_model auto_year  \\\n",
       "0          13020         52080       Saab         92x      2004   \n",
       "1            780          3510   Mercedes        E400      2007   \n",
       "2           3850         23100      Dodge         RAM      2007   \n",
       "3           6340         50720  Chevrolet       Tahoe      2014   \n",
       "4            650          4550     Accura         RSX      2009   \n",
       "\n",
       "  fraud_reported _c39  \n",
       "0              Y  NaN  \n",
       "1              Y  NaN  \n",
       "2              N  NaN  \n",
       "3              Y  NaN  \n",
       "4              N  NaN  \n",
       "\n",
       "[5 rows x 40 columns]"
      ]
     },
     "execution_count": 1,
     "metadata": {},
     "output_type": "execute_result"
    }
   ],
   "source": [
    "import pandas as pd\n",
    "\n",
    "#Data Loading\n",
    "\n",
    "datapath = \"insurance_claims.csv\"\n",
    "\n",
    "data = pd.read_csv(datapath)\n",
    "\n",
    "original_data = data.copy()\n",
    "\n",
    "data.head()"
   ]
  },
  {
   "cell_type": "code",
   "execution_count": 2,
   "metadata": {
    "scrolled": true
   },
   "outputs": [
    {
     "data": {
      "text/plain": [
       "Index(['months_as_customer', 'age', 'policy_number', 'policy_bind_date',\n",
       "       'policy_state', 'policy_csl', 'policy_deductable',\n",
       "       'policy_annual_premium', 'umbrella_limit', 'insured_zip', 'insured_sex',\n",
       "       'insured_education_level', 'insured_occupation', 'insured_hobbies',\n",
       "       'insured_relationship', 'capital-gains', 'capital-loss',\n",
       "       'incident_date', 'incident_type', 'collision_type', 'incident_severity',\n",
       "       'authorities_contacted', 'incident_state', 'incident_city',\n",
       "       'incident_location', 'incident_hour_of_the_day',\n",
       "       'number_of_vehicles_involved', 'property_damage', 'bodily_injuries',\n",
       "       'witnesses', 'police_report_available', 'total_claim_amount',\n",
       "       'injury_claim', 'property_claim', 'vehicle_claim', 'auto_make',\n",
       "       'auto_model', 'auto_year', 'fraud_reported', '_c39'],\n",
       "      dtype='object')"
      ]
     },
     "execution_count": 2,
     "metadata": {},
     "output_type": "execute_result"
    }
   ],
   "source": [
    "#Data Exploration\n",
    "\n",
    "data.columns"
   ]
  },
  {
   "cell_type": "code",
   "execution_count": 3,
   "metadata": {},
   "outputs": [
    {
     "data": {
      "text/plain": [
       "(1000, 40)"
      ]
     },
     "execution_count": 3,
     "metadata": {},
     "output_type": "execute_result"
    }
   ],
   "source": [
    "data.shape"
   ]
  },
  {
   "cell_type": "code",
   "execution_count": 4,
   "metadata": {},
   "outputs": [
    {
     "name": "stdout",
     "output_type": "stream",
     "text": [
      "Null Values: 1\n"
     ]
    }
   ],
   "source": [
    "#check missing or null or any values\n",
    "print(\"Null Values: \" + str(data.isnull().any().sum()))"
   ]
  },
  {
   "cell_type": "code",
   "execution_count": 5,
   "metadata": {},
   "outputs": [
    {
     "data": {
      "text/plain": [
       "<matplotlib.axes._subplots.AxesSubplot at 0x20c39b2cbe0>"
      ]
     },
     "execution_count": 5,
     "metadata": {},
     "output_type": "execute_result"
    },
    {
     "data": {
      "image/png": "[encoded data removed]",
      "text/plain": [
       "<Figure size 432x288 with 1 Axes>"
      ]
     },
     "metadata": {
      "needs_background": "light"
     },
     "output_type": "display_data"
    }
   ],
   "source": [
    "#Fraud Reported Stats\n",
    "df_count_fraud = data.groupby(['fraud_reported']).count()\n",
    "df_fraud = df_count_fraud['policy_number']\n",
    "df_fraud.plot.bar(x='Fraud Reported', y='Count')"
   ]
  },
  {
   "cell_type": "code",
   "execution_count": 6,
   "metadata": {},
   "outputs": [
    {
     "data": {
      "text/plain": [
       "<matplotlib.axes._subplots.AxesSubplot at 0x20c39c31a90>"
      ]
     },
     "execution_count": 6,
     "metadata": {},
     "output_type": "execute_result"
    },
    {
     "data": {
      "image/png": "[encoded data removed]",
      "text/plain": [
       "<Figure size 1080x504 with 1 Axes>"
      ]
     },
     "metadata": {
      "needs_background": "light"
     },
     "output_type": "display_data"
    }
   ],
   "source": [
    "#Annual premium of education level policy_annual_premium\n",
    "import matplotlib.pyplot as plt\n",
    "\n",
    "# plot data\n",
    "fig, ax = plt.subplots(figsize=(15,7))\n",
    "df_avg_prem = data.groupby(['insured_education_level', 'fraud_reported']).mean()['policy_annual_premium']\n",
    "df_avg_prem.unstack().plot(ax=ax)"
   ]
  },
  {
   "cell_type": "code",
   "execution_count": 7,
   "metadata": {},
   "outputs": [
    {
     "data": {
      "text/plain": [
       "<matplotlib.axes._subplots.AxesSubplot at 0x20c39cad278>"
      ]
     },
     "execution_count": 7,
     "metadata": {},
     "output_type": "execute_result"
    },
    {
     "data": {
      "image/png": "[encoded data removed]",
      "text/plain": [
       "<Figure size 1080x504 with 1 Axes>"
      ]
     },
     "metadata": {
      "needs_background": "light"
     },
     "output_type": "display_data"
    }
   ],
   "source": [
    "fig, ax = plt.subplots(figsize=(15,7))\n",
    "data.groupby(['insured_occupation', 'fraud_reported']).mean()['total_claim_amount'].unstack().plot(ax=ax)"
   ]
  },
  {
   "cell_type": "code",
   "execution_count": 8,
   "metadata": {},
   "outputs": [
    {
     "data": {
      "image/png": "[encoded data removed]",
      "text/plain": [
       "<Figure size 1440x648 with 2 Axes>"
      ]
     },
     "metadata": {
      "needs_background": "light"
     },
     "output_type": "display_data"
    }
   ],
   "source": [
    "import numpy as np \n",
    "import seaborn as sns\n",
    "\n",
    "plt.figure(figsize=(20, 9))\n",
    "\n",
    "corr = data.corr()\n",
    "ax = sns.heatmap(\n",
    "    corr, \n",
    "    vmin=-1, vmax=1, center=0,\n",
    "    cmap=sns.diverging_palette(220, 10, as_cmap=True),\n",
    "    square=True\n",
    ")\n",
    "ax.set_xticklabels(\n",
    "    ax.get_xticklabels(),\n",
    "    rotation=45,\n",
    "    horizontalalignment='right'\n",
    ");"
   ]
  },
  {
   "cell_type": "code",
   "execution_count": 9,
   "metadata": {
    "scrolled": true
   },
   "outputs": [
    {
     "data": {
      "text/html": [
       "<div>\n",
       "<style scoped>\n",
       "    .dataframe tbody tr th:only-of-type {\n",
       "        vertical-align: middle;\n",
       "    }\n",
       "\n",
       "    .dataframe tbody tr th {\n",
       "        vertical-align: top;\n",
       "    }\n",
       "\n",
       "    .dataframe thead th {\n",
       "        text-align: right;\n",
       "    }\n",
       "</style>\n",
       "<table border=\"1\" class=\"dataframe\">\n",
       "  <thead>\n",
       "    <tr style=\"text-align: right;\">\n",
       "      <th></th>\n",
       "      <th>months_as_customer</th>\n",
       "      <th>age</th>\n",
       "      <th>policy_state</th>\n",
       "      <th>policy_csl</th>\n",
       "      <th>policy_deductable</th>\n",
       "      <th>policy_annual_premium</th>\n",
       "      <th>umbrella_limit</th>\n",
       "      <th>insured_sex</th>\n",
       "      <th>insured_education_level</th>\n",
       "      <th>insured_occupation</th>\n",
       "      <th>...</th>\n",
       "      <th>witnesses</th>\n",
       "      <th>police_report_available</th>\n",
       "      <th>total_claim_amount</th>\n",
       "      <th>injury_claim</th>\n",
       "      <th>property_claim</th>\n",
       "      <th>vehicle_claim</th>\n",
       "      <th>auto_make</th>\n",
       "      <th>auto_model</th>\n",
       "      <th>auto_year</th>\n",
       "      <th>fraud_reported</th>\n",
       "    </tr>\n",
       "  </thead>\n",
       "  <tbody>\n",
       "    <tr>\n",
       "      <td>0</td>\n",
       "      <td>328</td>\n",
       "      <td>48</td>\n",
       "      <td>OH</td>\n",
       "      <td>250/500</td>\n",
       "      <td>1000</td>\n",
       "      <td>1406.91</td>\n",
       "      <td>0</td>\n",
       "      <td>MALE</td>\n",
       "      <td>MD</td>\n",
       "      <td>craft-repair</td>\n",
       "      <td>...</td>\n",
       "      <td>2</td>\n",
       "      <td>YES</td>\n",
       "      <td>71610</td>\n",
       "      <td>6510</td>\n",
       "      <td>13020</td>\n",
       "      <td>52080</td>\n",
       "      <td>Saab</td>\n",
       "      <td>92x</td>\n",
       "      <td>2004</td>\n",
       "      <td>Y</td>\n",
       "    </tr>\n",
       "    <tr>\n",
       "      <td>1</td>\n",
       "      <td>228</td>\n",
       "      <td>42</td>\n",
       "      <td>IN</td>\n",
       "      <td>250/500</td>\n",
       "      <td>2000</td>\n",
       "      <td>1197.22</td>\n",
       "      <td>5000000</td>\n",
       "      <td>MALE</td>\n",
       "      <td>MD</td>\n",
       "      <td>machine-op-inspct</td>\n",
       "      <td>...</td>\n",
       "      <td>0</td>\n",
       "      <td>?</td>\n",
       "      <td>5070</td>\n",
       "      <td>780</td>\n",
       "      <td>780</td>\n",
       "      <td>3510</td>\n",
       "      <td>Mercedes</td>\n",
       "      <td>E400</td>\n",
       "      <td>2007</td>\n",
       "      <td>Y</td>\n",
       "    </tr>\n",
       "    <tr>\n",
       "      <td>2</td>\n",
       "      <td>134</td>\n",
       "      <td>29</td>\n",
       "      <td>OH</td>\n",
       "      <td>100/300</td>\n",
       "      <td>2000</td>\n",
       "      <td>1413.14</td>\n",
       "      <td>5000000</td>\n",
       "      <td>FEMALE</td>\n",
       "      <td>PhD</td>\n",
       "      <td>sales</td>\n",
       "      <td>...</td>\n",
       "      <td>3</td>\n",
       "      <td>NO</td>\n",
       "      <td>34650</td>\n",
       "      <td>7700</td>\n",
       "      <td>3850</td>\n",
       "      <td>23100</td>\n",
       "      <td>Dodge</td>\n",
       "      <td>RAM</td>\n",
       "      <td>2007</td>\n",
       "      <td>N</td>\n",
       "    </tr>\n",
       "    <tr>\n",
       "      <td>3</td>\n",
       "      <td>256</td>\n",
       "      <td>41</td>\n",
       "      <td>IL</td>\n",
       "      <td>250/500</td>\n",
       "      <td>2000</td>\n",
       "      <td>1415.74</td>\n",
       "      <td>6000000</td>\n",
       "      <td>FEMALE</td>\n",
       "      <td>PhD</td>\n",
       "      <td>armed-forces</td>\n",
       "      <td>...</td>\n",
       "      <td>2</td>\n",
       "      <td>NO</td>\n",
       "      <td>63400</td>\n",
       "      <td>6340</td>\n",
       "      <td>6340</td>\n",
       "      <td>50720</td>\n",
       "      <td>Chevrolet</td>\n",
       "      <td>Tahoe</td>\n",
       "      <td>2014</td>\n",
       "      <td>Y</td>\n",
       "    </tr>\n",
       "    <tr>\n",
       "      <td>4</td>\n",
       "      <td>228</td>\n",
       "      <td>44</td>\n",
       "      <td>IL</td>\n",
       "      <td>500/1000</td>\n",
       "      <td>1000</td>\n",
       "      <td>1583.91</td>\n",
       "      <td>6000000</td>\n",
       "      <td>MALE</td>\n",
       "      <td>Associate</td>\n",
       "      <td>sales</td>\n",
       "      <td>...</td>\n",
       "      <td>1</td>\n",
       "      <td>NO</td>\n",
       "      <td>6500</td>\n",
       "      <td>1300</td>\n",
       "      <td>650</td>\n",
       "      <td>4550</td>\n",
       "      <td>Accura</td>\n",
       "      <td>RSX</td>\n",
       "      <td>2009</td>\n",
       "      <td>N</td>\n",
       "    </tr>\n",
       "    <tr>\n",
       "      <td>...</td>\n",
       "      <td>...</td>\n",
       "      <td>...</td>\n",
       "      <td>...</td>\n",
       "      <td>...</td>\n",
       "      <td>...</td>\n",
       "      <td>...</td>\n",
       "      <td>...</td>\n",
       "      <td>...</td>\n",
       "      <td>...</td>\n",
       "      <td>...</td>\n",
       "      <td>...</td>\n",
       "      <td>...</td>\n",
       "      <td>...</td>\n",
       "      <td>...</td>\n",
       "      <td>...</td>\n",
       "      <td>...</td>\n",
       "      <td>...</td>\n",
       "      <td>...</td>\n",
       "      <td>...</td>\n",
       "      <td>...</td>\n",
       "      <td>...</td>\n",
       "    </tr>\n",
       "    <tr>\n",
       "      <td>995</td>\n",
       "      <td>3</td>\n",
       "      <td>38</td>\n",
       "      <td>OH</td>\n",
       "      <td>500/1000</td>\n",
       "      <td>1000</td>\n",
       "      <td>1310.80</td>\n",
       "      <td>0</td>\n",
       "      <td>FEMALE</td>\n",
       "      <td>Masters</td>\n",
       "      <td>craft-repair</td>\n",
       "      <td>...</td>\n",
       "      <td>1</td>\n",
       "      <td>?</td>\n",
       "      <td>87200</td>\n",
       "      <td>17440</td>\n",
       "      <td>8720</td>\n",
       "      <td>61040</td>\n",
       "      <td>Honda</td>\n",
       "      <td>Accord</td>\n",
       "      <td>2006</td>\n",
       "      <td>N</td>\n",
       "    </tr>\n",
       "    <tr>\n",
       "      <td>996</td>\n",
       "      <td>285</td>\n",
       "      <td>41</td>\n",
       "      <td>IL</td>\n",
       "      <td>100/300</td>\n",
       "      <td>1000</td>\n",
       "      <td>1436.79</td>\n",
       "      <td>0</td>\n",
       "      <td>FEMALE</td>\n",
       "      <td>PhD</td>\n",
       "      <td>prof-specialty</td>\n",
       "      <td>...</td>\n",
       "      <td>3</td>\n",
       "      <td>?</td>\n",
       "      <td>108480</td>\n",
       "      <td>18080</td>\n",
       "      <td>18080</td>\n",
       "      <td>72320</td>\n",
       "      <td>Volkswagen</td>\n",
       "      <td>Passat</td>\n",
       "      <td>2015</td>\n",
       "      <td>N</td>\n",
       "    </tr>\n",
       "    <tr>\n",
       "      <td>997</td>\n",
       "      <td>130</td>\n",
       "      <td>34</td>\n",
       "      <td>OH</td>\n",
       "      <td>250/500</td>\n",
       "      <td>500</td>\n",
       "      <td>1383.49</td>\n",
       "      <td>3000000</td>\n",
       "      <td>FEMALE</td>\n",
       "      <td>Masters</td>\n",
       "      <td>armed-forces</td>\n",
       "      <td>...</td>\n",
       "      <td>3</td>\n",
       "      <td>YES</td>\n",
       "      <td>67500</td>\n",
       "      <td>7500</td>\n",
       "      <td>7500</td>\n",
       "      <td>52500</td>\n",
       "      <td>Suburu</td>\n",
       "      <td>Impreza</td>\n",
       "      <td>1996</td>\n",
       "      <td>N</td>\n",
       "    </tr>\n",
       "    <tr>\n",
       "      <td>998</td>\n",
       "      <td>458</td>\n",
       "      <td>62</td>\n",
       "      <td>IL</td>\n",
       "      <td>500/1000</td>\n",
       "      <td>2000</td>\n",
       "      <td>1356.92</td>\n",
       "      <td>5000000</td>\n",
       "      <td>MALE</td>\n",
       "      <td>Associate</td>\n",
       "      <td>handlers-cleaners</td>\n",
       "      <td>...</td>\n",
       "      <td>1</td>\n",
       "      <td>YES</td>\n",
       "      <td>46980</td>\n",
       "      <td>5220</td>\n",
       "      <td>5220</td>\n",
       "      <td>36540</td>\n",
       "      <td>Audi</td>\n",
       "      <td>A5</td>\n",
       "      <td>1998</td>\n",
       "      <td>N</td>\n",
       "    </tr>\n",
       "    <tr>\n",
       "      <td>999</td>\n",
       "      <td>456</td>\n",
       "      <td>60</td>\n",
       "      <td>OH</td>\n",
       "      <td>250/500</td>\n",
       "      <td>1000</td>\n",
       "      <td>766.19</td>\n",
       "      <td>0</td>\n",
       "      <td>FEMALE</td>\n",
       "      <td>Associate</td>\n",
       "      <td>sales</td>\n",
       "      <td>...</td>\n",
       "      <td>3</td>\n",
       "      <td>?</td>\n",
       "      <td>5060</td>\n",
       "      <td>460</td>\n",
       "      <td>920</td>\n",
       "      <td>3680</td>\n",
       "      <td>Mercedes</td>\n",
       "      <td>E400</td>\n",
       "      <td>2007</td>\n",
       "      <td>N</td>\n",
       "    </tr>\n",
       "  </tbody>\n",
       "</table>\n",
       "<p>1000 rows × 34 columns</p>\n",
       "</div>"
      ],
      "text/plain": [
       "     months_as_customer  age policy_state policy_csl  policy_deductable  \\\n",
       "0                   328   48           OH    250/500               1000   \n",
       "1                   228   42           IN    250/500               2000   \n",
       "2                   134   29           OH    100/300               2000   \n",
       "3                   256   41           IL    250/500               2000   \n",
       "4                   228   44           IL   500/1000               1000   \n",
       "..                  ...  ...          ...        ...                ...   \n",
       "995                   3   38           OH   500/1000               1000   \n",
       "996                 285   41           IL    100/300               1000   \n",
       "997                 130   34           OH    250/500                500   \n",
       "998                 458   62           IL   500/1000               2000   \n",
       "999                 456   60           OH    250/500               1000   \n",
       "\n",
       "     policy_annual_premium  umbrella_limit insured_sex  \\\n",
       "0                  1406.91               0        MALE   \n",
       "1                  1197.22         5000000        MALE   \n",
       "2                  1413.14         5000000      FEMALE   \n",
       "3                  1415.74         6000000      FEMALE   \n",
       "4                  1583.91         6000000        MALE   \n",
       "..                     ...             ...         ...   \n",
       "995                1310.80               0      FEMALE   \n",
       "996                1436.79               0      FEMALE   \n",
       "997                1383.49         3000000      FEMALE   \n",
       "998                1356.92         5000000        MALE   \n",
       "999                 766.19               0      FEMALE   \n",
       "\n",
       "    insured_education_level insured_occupation  ... witnesses  \\\n",
       "0                        MD       craft-repair  ...         2   \n",
       "1                        MD  machine-op-inspct  ...         0   \n",
       "2                       PhD              sales  ...         3   \n",
       "3                       PhD       armed-forces  ...         2   \n",
       "4                 Associate              sales  ...         1   \n",
       "..                      ...                ...  ...       ...   \n",
       "995                 Masters       craft-repair  ...         1   \n",
       "996                     PhD     prof-specialty  ...         3   \n",
       "997                 Masters       armed-forces  ...         3   \n",
       "998               Associate  handlers-cleaners  ...         1   \n",
       "999               Associate              sales  ...         3   \n",
       "\n",
       "    police_report_available  total_claim_amount  injury_claim property_claim  \\\n",
       "0                       YES               71610          6510          13020   \n",
       "1                         ?                5070           780            780   \n",
       "2                        NO               34650          7700           3850   \n",
       "3                        NO               63400          6340           6340   \n",
       "4                        NO                6500          1300            650   \n",
       "..                      ...                 ...           ...            ...   \n",
       "995                       ?               87200         17440           8720   \n",
       "996                       ?              108480         18080          18080   \n",
       "997                     YES               67500          7500           7500   \n",
       "998                     YES               46980          5220           5220   \n",
       "999                       ?                5060           460            920   \n",
       "\n",
       "    vehicle_claim   auto_make auto_model auto_year fraud_reported  \n",
       "0           52080        Saab        92x      2004              Y  \n",
       "1            3510    Mercedes       E400      2007              Y  \n",
       "2           23100       Dodge        RAM      2007              N  \n",
       "3           50720   Chevrolet      Tahoe      2014              Y  \n",
       "4            4550      Accura        RSX      2009              N  \n",
       "..            ...         ...        ...       ...            ...  \n",
       "995         61040       Honda     Accord      2006              N  \n",
       "996         72320  Volkswagen     Passat      2015              N  \n",
       "997         52500      Suburu    Impreza      1996              N  \n",
       "998         36540        Audi         A5      1998              N  \n",
       "999          3680    Mercedes       E400      2007              N  \n",
       "\n",
       "[1000 rows x 34 columns]"
      ]
     },
     "execution_count": 9,
     "metadata": {},
     "output_type": "execute_result"
    }
   ],
   "source": [
    "#Remove Less Correlated Columns\n",
    "deleteCols = [\"policy_number\", \"policy_bind_date\", \"insured_zip\", \"incident_location\", \"incident_date\", \"_c39\"]\n",
    "data = data.drop(deleteCols, axis=1)\n",
    "data"
   ]
  },
  {
   "cell_type": "code",
   "execution_count": 10,
   "metadata": {
    "scrolled": true
   },
   "outputs": [
    {
     "data": {
      "text/plain": [
       "months_as_customer               int64\n",
       "age                              int64\n",
       "policy_state                    object\n",
       "policy_csl                      object\n",
       "policy_deductable                int64\n",
       "policy_annual_premium          float64\n",
       "umbrella_limit                   int64\n",
       "insured_sex                     object\n",
       "insured_education_level         object\n",
       "insured_occupation              object\n",
       "insured_hobbies                 object\n",
       "insured_relationship            object\n",
       "capital-gains                    int64\n",
       "capital-loss                     int64\n",
       "incident_type                   object\n",
       "collision_type                  object\n",
       "incident_severity               object\n",
       "authorities_contacted           object\n",
       "incident_state                  object\n",
       "incident_city                   object\n",
       "incident_hour_of_the_day         int64\n",
       "number_of_vehicles_involved      int64\n",
       "property_damage                 object\n",
       "bodily_injuries                  int64\n",
       "witnesses                        int64\n",
       "police_report_available         object\n",
       "total_claim_amount               int64\n",
       "injury_claim                     int64\n",
       "property_claim                   int64\n",
       "vehicle_claim                    int64\n",
       "auto_make                       object\n",
       "auto_model                      object\n",
       "auto_year                        int64\n",
       "fraud_reported                  object\n",
       "dtype: object"
      ]
     },
     "execution_count": 10,
     "metadata": {},
     "output_type": "execute_result"
    }
   ],
   "source": [
    "#Handle Categorical Data\n",
    "data.dtypes"
   ]
  },
  {
   "cell_type": "code",
   "execution_count": 11,
   "metadata": {},
   "outputs": [
    {
     "data": {
      "text/html": [
       "<div>\n",
       "<style scoped>\n",
       "    .dataframe tbody tr th:only-of-type {\n",
       "        vertical-align: middle;\n",
       "    }\n",
       "\n",
       "    .dataframe tbody tr th {\n",
       "        vertical-align: top;\n",
       "    }\n",
       "\n",
       "    .dataframe thead th {\n",
       "        text-align: right;\n",
       "    }\n",
       "</style>\n",
       "<table border=\"1\" class=\"dataframe\">\n",
       "  <thead>\n",
       "    <tr style=\"text-align: right;\">\n",
       "      <th></th>\n",
       "      <th>months_as_customer</th>\n",
       "      <th>age</th>\n",
       "      <th>policy_deductable</th>\n",
       "      <th>policy_annual_premium</th>\n",
       "      <th>umbrella_limit</th>\n",
       "      <th>capital-gains</th>\n",
       "      <th>capital-loss</th>\n",
       "      <th>incident_hour_of_the_day</th>\n",
       "      <th>number_of_vehicles_involved</th>\n",
       "      <th>bodily_injuries</th>\n",
       "      <th>...</th>\n",
       "      <th>auto_model_Pathfinder</th>\n",
       "      <th>auto_model_RAM</th>\n",
       "      <th>auto_model_RSX</th>\n",
       "      <th>auto_model_Silverado</th>\n",
       "      <th>auto_model_TL</th>\n",
       "      <th>auto_model_Tahoe</th>\n",
       "      <th>auto_model_Ultima</th>\n",
       "      <th>auto_model_Wrangler</th>\n",
       "      <th>auto_model_X5</th>\n",
       "      <th>auto_model_X6</th>\n",
       "    </tr>\n",
       "  </thead>\n",
       "  <tbody>\n",
       "    <tr>\n",
       "      <td>0</td>\n",
       "      <td>328</td>\n",
       "      <td>48</td>\n",
       "      <td>1000</td>\n",
       "      <td>1406.91</td>\n",
       "      <td>0</td>\n",
       "      <td>53300</td>\n",
       "      <td>0</td>\n",
       "      <td>5</td>\n",
       "      <td>1</td>\n",
       "      <td>1</td>\n",
       "      <td>...</td>\n",
       "      <td>0</td>\n",
       "      <td>0</td>\n",
       "      <td>0</td>\n",
       "      <td>0</td>\n",
       "      <td>0</td>\n",
       "      <td>0</td>\n",
       "      <td>0</td>\n",
       "      <td>0</td>\n",
       "      <td>0</td>\n",
       "      <td>0</td>\n",
       "    </tr>\n",
       "    <tr>\n",
       "      <td>1</td>\n",
       "      <td>228</td>\n",
       "      <td>42</td>\n",
       "      <td>2000</td>\n",
       "      <td>1197.22</td>\n",
       "      <td>5000000</td>\n",
       "      <td>0</td>\n",
       "      <td>0</td>\n",
       "      <td>8</td>\n",
       "      <td>1</td>\n",
       "      <td>0</td>\n",
       "      <td>...</td>\n",
       "      <td>0</td>\n",
       "      <td>0</td>\n",
       "      <td>0</td>\n",
       "      <td>0</td>\n",
       "      <td>0</td>\n",
       "      <td>0</td>\n",
       "      <td>0</td>\n",
       "      <td>0</td>\n",
       "      <td>0</td>\n",
       "      <td>0</td>\n",
       "    </tr>\n",
       "    <tr>\n",
       "      <td>2</td>\n",
       "      <td>134</td>\n",
       "      <td>29</td>\n",
       "      <td>2000</td>\n",
       "      <td>1413.14</td>\n",
       "      <td>5000000</td>\n",
       "      <td>35100</td>\n",
       "      <td>0</td>\n",
       "      <td>7</td>\n",
       "      <td>3</td>\n",
       "      <td>2</td>\n",
       "      <td>...</td>\n",
       "      <td>0</td>\n",
       "      <td>1</td>\n",
       "      <td>0</td>\n",
       "      <td>0</td>\n",
       "      <td>0</td>\n",
       "      <td>0</td>\n",
       "      <td>0</td>\n",
       "      <td>0</td>\n",
       "      <td>0</td>\n",
       "      <td>0</td>\n",
       "    </tr>\n",
       "    <tr>\n",
       "      <td>3</td>\n",
       "      <td>256</td>\n",
       "      <td>41</td>\n",
       "      <td>2000</td>\n",
       "      <td>1415.74</td>\n",
       "      <td>6000000</td>\n",
       "      <td>48900</td>\n",
       "      <td>-62400</td>\n",
       "      <td>5</td>\n",
       "      <td>1</td>\n",
       "      <td>1</td>\n",
       "      <td>...</td>\n",
       "      <td>0</td>\n",
       "      <td>0</td>\n",
       "      <td>0</td>\n",
       "      <td>0</td>\n",
       "      <td>0</td>\n",
       "      <td>1</td>\n",
       "      <td>0</td>\n",
       "      <td>0</td>\n",
       "      <td>0</td>\n",
       "      <td>0</td>\n",
       "    </tr>\n",
       "    <tr>\n",
       "      <td>4</td>\n",
       "      <td>228</td>\n",
       "      <td>44</td>\n",
       "      <td>1000</td>\n",
       "      <td>1583.91</td>\n",
       "      <td>6000000</td>\n",
       "      <td>66000</td>\n",
       "      <td>-46000</td>\n",
       "      <td>20</td>\n",
       "      <td>1</td>\n",
       "      <td>0</td>\n",
       "      <td>...</td>\n",
       "      <td>0</td>\n",
       "      <td>0</td>\n",
       "      <td>1</td>\n",
       "      <td>0</td>\n",
       "      <td>0</td>\n",
       "      <td>0</td>\n",
       "      <td>0</td>\n",
       "      <td>0</td>\n",
       "      <td>0</td>\n",
       "      <td>0</td>\n",
       "    </tr>\n",
       "    <tr>\n",
       "      <td>...</td>\n",
       "      <td>...</td>\n",
       "      <td>...</td>\n",
       "      <td>...</td>\n",
       "      <td>...</td>\n",
       "      <td>...</td>\n",
       "      <td>...</td>\n",
       "      <td>...</td>\n",
       "      <td>...</td>\n",
       "      <td>...</td>\n",
       "      <td>...</td>\n",
       "      <td>...</td>\n",
       "      <td>...</td>\n",
       "      <td>...</td>\n",
       "      <td>...</td>\n",
       "      <td>...</td>\n",
       "      <td>...</td>\n",
       "      <td>...</td>\n",
       "      <td>...</td>\n",
       "      <td>...</td>\n",
       "      <td>...</td>\n",
       "      <td>...</td>\n",
       "    </tr>\n",
       "    <tr>\n",
       "      <td>995</td>\n",
       "      <td>3</td>\n",
       "      <td>38</td>\n",
       "      <td>1000</td>\n",
       "      <td>1310.80</td>\n",
       "      <td>0</td>\n",
       "      <td>0</td>\n",
       "      <td>0</td>\n",
       "      <td>20</td>\n",
       "      <td>1</td>\n",
       "      <td>0</td>\n",
       "      <td>...</td>\n",
       "      <td>0</td>\n",
       "      <td>0</td>\n",
       "      <td>0</td>\n",
       "      <td>0</td>\n",
       "      <td>0</td>\n",
       "      <td>0</td>\n",
       "      <td>0</td>\n",
       "      <td>0</td>\n",
       "      <td>0</td>\n",
       "      <td>0</td>\n",
       "    </tr>\n",
       "    <tr>\n",
       "      <td>996</td>\n",
       "      <td>285</td>\n",
       "      <td>41</td>\n",
       "      <td>1000</td>\n",
       "      <td>1436.79</td>\n",
       "      <td>0</td>\n",
       "      <td>70900</td>\n",
       "      <td>0</td>\n",
       "      <td>23</td>\n",
       "      <td>1</td>\n",
       "      <td>2</td>\n",
       "      <td>...</td>\n",
       "      <td>0</td>\n",
       "      <td>0</td>\n",
       "      <td>0</td>\n",
       "      <td>0</td>\n",
       "      <td>0</td>\n",
       "      <td>0</td>\n",
       "      <td>0</td>\n",
       "      <td>0</td>\n",
       "      <td>0</td>\n",
       "      <td>0</td>\n",
       "    </tr>\n",
       "    <tr>\n",
       "      <td>997</td>\n",
       "      <td>130</td>\n",
       "      <td>34</td>\n",
       "      <td>500</td>\n",
       "      <td>1383.49</td>\n",
       "      <td>3000000</td>\n",
       "      <td>35100</td>\n",
       "      <td>0</td>\n",
       "      <td>4</td>\n",
       "      <td>3</td>\n",
       "      <td>2</td>\n",
       "      <td>...</td>\n",
       "      <td>0</td>\n",
       "      <td>0</td>\n",
       "      <td>0</td>\n",
       "      <td>0</td>\n",
       "      <td>0</td>\n",
       "      <td>0</td>\n",
       "      <td>0</td>\n",
       "      <td>0</td>\n",
       "      <td>0</td>\n",
       "      <td>0</td>\n",
       "    </tr>\n",
       "    <tr>\n",
       "      <td>998</td>\n",
       "      <td>458</td>\n",
       "      <td>62</td>\n",
       "      <td>2000</td>\n",
       "      <td>1356.92</td>\n",
       "      <td>5000000</td>\n",
       "      <td>0</td>\n",
       "      <td>0</td>\n",
       "      <td>2</td>\n",
       "      <td>1</td>\n",
       "      <td>0</td>\n",
       "      <td>...</td>\n",
       "      <td>0</td>\n",
       "      <td>0</td>\n",
       "      <td>0</td>\n",
       "      <td>0</td>\n",
       "      <td>0</td>\n",
       "      <td>0</td>\n",
       "      <td>0</td>\n",
       "      <td>0</td>\n",
       "      <td>0</td>\n",
       "      <td>0</td>\n",
       "    </tr>\n",
       "    <tr>\n",
       "      <td>999</td>\n",
       "      <td>456</td>\n",
       "      <td>60</td>\n",
       "      <td>1000</td>\n",
       "      <td>766.19</td>\n",
       "      <td>0</td>\n",
       "      <td>0</td>\n",
       "      <td>0</td>\n",
       "      <td>6</td>\n",
       "      <td>1</td>\n",
       "      <td>0</td>\n",
       "      <td>...</td>\n",
       "      <td>0</td>\n",
       "      <td>0</td>\n",
       "      <td>0</td>\n",
       "      <td>0</td>\n",
       "      <td>0</td>\n",
       "      <td>0</td>\n",
       "      <td>0</td>\n",
       "      <td>0</td>\n",
       "      <td>0</td>\n",
       "      <td>0</td>\n",
       "    </tr>\n",
       "  </tbody>\n",
       "</table>\n",
       "<p>1000 rows × 162 columns</p>\n",
       "</div>"
      ],
      "text/plain": [
       "     months_as_customer  age  policy_deductable  policy_annual_premium  \\\n",
       "0                   328   48               1000                1406.91   \n",
       "1                   228   42               2000                1197.22   \n",
       "2                   134   29               2000                1413.14   \n",
       "3                   256   41               2000                1415.74   \n",
       "4                   228   44               1000                1583.91   \n",
       "..                  ...  ...                ...                    ...   \n",
       "995                   3   38               1000                1310.80   \n",
       "996                 285   41               1000                1436.79   \n",
       "997                 130   34                500                1383.49   \n",
       "998                 458   62               2000                1356.92   \n",
       "999                 456   60               1000                 766.19   \n",
       "\n",
       "     umbrella_limit  capital-gains  capital-loss  incident_hour_of_the_day  \\\n",
       "0                 0          53300             0                         5   \n",
       "1           5000000              0             0                         8   \n",
       "2           5000000          35100             0                         7   \n",
       "3           6000000          48900        -62400                         5   \n",
       "4           6000000          66000        -46000                        20   \n",
       "..              ...            ...           ...                       ...   \n",
       "995               0              0             0                        20   \n",
       "996               0          70900             0                        23   \n",
       "997         3000000          35100             0                         4   \n",
       "998         5000000              0             0                         2   \n",
       "999               0              0             0                         6   \n",
       "\n",
       "     number_of_vehicles_involved  bodily_injuries  ...  auto_model_Pathfinder  \\\n",
       "0                              1                1  ...                      0   \n",
       "1                              1                0  ...                      0   \n",
       "2                              3                2  ...                      0   \n",
       "3                              1                1  ...                      0   \n",
       "4                              1                0  ...                      0   \n",
       "..                           ...              ...  ...                    ...   \n",
       "995                            1                0  ...                      0   \n",
       "996                            1                2  ...                      0   \n",
       "997                            3                2  ...                      0   \n",
       "998                            1                0  ...                      0   \n",
       "999                            1                0  ...                      0   \n",
       "\n",
       "     auto_model_RAM  auto_model_RSX  auto_model_Silverado  auto_model_TL  \\\n",
       "0                 0               0                     0              0   \n",
       "1                 0               0                     0              0   \n",
       "2                 1               0                     0              0   \n",
       "3                 0               0                     0              0   \n",
       "4                 0               1                     0              0   \n",
       "..              ...             ...                   ...            ...   \n",
       "995               0               0                     0              0   \n",
       "996               0               0                     0              0   \n",
       "997               0               0                     0              0   \n",
       "998               0               0                     0              0   \n",
       "999               0               0                     0              0   \n",
       "\n",
       "     auto_model_Tahoe  auto_model_Ultima  auto_model_Wrangler  auto_model_X5  \\\n",
       "0                   0                  0                    0              0   \n",
       "1                   0                  0                    0              0   \n",
       "2                   0                  0                    0              0   \n",
       "3                   1                  0                    0              0   \n",
       "4                   0                  0                    0              0   \n",
       "..                ...                ...                  ...            ...   \n",
       "995                 0                  0                    0              0   \n",
       "996                 0                  0                    0              0   \n",
       "997                 0                  0                    0              0   \n",
       "998                 0                  0                    0              0   \n",
       "999                 0                  0                    0              0   \n",
       "\n",
       "     auto_model_X6  \n",
       "0                0  \n",
       "1                0  \n",
       "2                0  \n",
       "3                0  \n",
       "4                0  \n",
       "..             ...  \n",
       "995              0  \n",
       "996              0  \n",
       "997              0  \n",
       "998              0  \n",
       "999              0  \n",
       "\n",
       "[1000 rows x 162 columns]"
      ]
     },
     "execution_count": 11,
     "metadata": {},
     "output_type": "execute_result"
    }
   ],
   "source": [
    "#One-hot encoding all categorical columns except output column(i.e. fraud_reported)\n",
    "list_hot_encoded = []\n",
    "for column in data.columns:\n",
    "    if(data[column].dtypes==object and column != 'fraud_reported'):\n",
    "        data = pd.concat([data, pd.get_dummies(data[column], prefix=column)], axis=1)\n",
    "        list_hot_encoded.append(column)\n",
    "#Drop hot-encoded columns\n",
    "data = data.drop(list_hot_encoded, axis=1)\n",
    "\n",
    "#Binary encoder for output column\n",
    "data['fraud_reported'] = data['fraud_reported'].map( {'Y':1, 'N':0})\n",
    "\n",
    "data "
   ]
  },
  {
   "cell_type": "code",
   "execution_count": 12,
   "metadata": {},
   "outputs": [],
   "source": [
    "#Model Training\n",
    "from sklearn.metrics import confusion_matrix\n",
    "from sklearn.metrics import precision_score\n",
    "from sklearn.metrics import recall_score\n",
    "from sklearn.model_selection import train_test_split\n",
    "\n",
    "y = data['fraud_reported']\n",
    "X = data.drop(['fraud_reported'], axis=1)\n",
    "\n",
    "X_train, X_test, y_train, y_test = train_test_split(X, y, test_size=0.15, random_state=42)"
   ]
  },
  {
   "cell_type": "code",
   "execution_count": 13,
   "metadata": {},
   "outputs": [
    {
     "name": "stdout",
     "output_type": "stream",
     "text": [
      "KNN Score :\n"
     ]
    },
    {
     "data": {
      "text/plain": [
       "0.7333333333333333"
      ]
     },
     "execution_count": 13,
     "metadata": {},
     "output_type": "execute_result"
    }
   ],
   "source": [
    "from sklearn import neighbors\n",
    "\n",
    "#K-Nearest Neighbors\n",
    "print(\"KNN Score :\")\n",
    "KNNClassifier = neighbors.KNeighborsClassifier(n_neighbors=12, weights='distance')\n",
    "KNNClassifier.fit(X=X_train,y=y_train)\n",
    "KNNClassifier.score(X_test,y_test)"
   ]
  },
  {
   "cell_type": "code",
   "execution_count": 14,
   "metadata": {},
   "outputs": [
    {
     "data": {
      "text/plain": [
       "array([[108,   5],\n",
       "       [ 35,   2]], dtype=int64)"
      ]
     },
     "execution_count": 14,
     "metadata": {},
     "output_type": "execute_result"
    }
   ],
   "source": [
    "KNN_y_predicted = KNNClassifier.predict(X_test)\n",
    "class_names = np.unique(np.array(y_test))\n",
    "confusion_matrix(y_test, KNN_y_predicted)"
   ]
  },
  {
   "cell_type": "code",
   "execution_count": 15,
   "metadata": {},
   "outputs": [
    {
     "name": "stdout",
     "output_type": "stream",
     "text": [
      "              precision    recall  f1-score   support\n",
      "\n",
      "           0       0.76      0.96      0.84       113\n",
      "           1       0.29      0.05      0.09        37\n",
      "\n",
      "    accuracy                           0.73       150\n",
      "   macro avg       0.52      0.50      0.47       150\n",
      "weighted avg       0.64      0.73      0.66       150\n",
      "\n",
      "Cross-Validated Accuracy: 0.73\n"
     ]
    }
   ],
   "source": [
    "from sklearn.metrics import classification_report\n",
    "from sklearn.model_selection import cross_val_score\n",
    "\n",
    "print(classification_report(y_test, KNN_y_predicted))\n",
    "\n",
    "scores = cross_val_score(KNNClassifier, X, y, cv=10, scoring='accuracy')\n",
    "knn_accuracy = scores.mean()\n",
    "print('Cross-Validated Accuracy: %0.2f' % knn_accuracy)"
   ]
  },
  {
   "cell_type": "code",
   "execution_count": 16,
   "metadata": {},
   "outputs": [
    {
     "data": {
      "image/png": "[encoded data removed]",
      "text/plain": [
       "<Figure size 432x288 with 1 Axes>"
      ]
     },
     "metadata": {
      "needs_background": "light"
     },
     "output_type": "display_data"
    }
   ],
   "source": [
    "from sklearn.metrics import roc_curve, auc\n",
    "knn_pred_prob = KNNClassifier.predict_proba(X_test)[:, 1]\n",
    "fpr, tpr, thresholds = roc_curve(y_test, knn_pred_prob)\n",
    "roc_auc = auc(fpr, tpr)\n",
    "lw = 2\n",
    "plt.plot(fpr, tpr,label='ROC curve KNN (AUC = %0.2f)' % roc_auc)\n",
    "plt.xlim([0.0, 1])\n",
    "plt.ylim([0.0, 1])\n",
    "plt.title('ROC curve for KNN CLASS 1')\n",
    "plt.xlabel('(1 - Specificity)')\n",
    "plt.ylabel('(Sensitivity)')\n",
    "plt.grid(True)\n",
    "plt.legend(loc=\"lower right\")\n",
    "plt.show()"
   ]
  },
  {
   "cell_type": "code",
   "execution_count": 17,
   "metadata": {},
   "outputs": [
    {
     "name": "stdout",
     "output_type": "stream",
     "text": [
      "Decision Tree Score :\n"
     ]
    },
    {
     "data": {
      "text/plain": [
       "0.8066666666666666"
      ]
     },
     "execution_count": 17,
     "metadata": {},
     "output_type": "execute_result"
    }
   ],
   "source": [
    "from sklearn import tree\n",
    "\n",
    "#DecisionTree\n",
    "DTClassifier = tree.DecisionTreeClassifier()\n",
    "DTClassifier.fit(X_train, y_train) \n",
    "\n",
    "print(\"Decision Tree Score :\")\n",
    "DTClassifier.score(X_test,y_test)"
   ]
  },
  {
   "cell_type": "code",
   "execution_count": 18,
   "metadata": {},
   "outputs": [
    {
     "data": {
      "text/plain": [
       "array([[96, 17],\n",
       "       [12, 25]], dtype=int64)"
      ]
     },
     "execution_count": 18,
     "metadata": {},
     "output_type": "execute_result"
    }
   ],
   "source": [
    "DT_y_predicted = DTClassifier.predict(X_test)\n",
    "class_names = np.unique(np.array(y_test))\n",
    "confusion_matrix(y_test, DT_y_predicted)"
   ]
  },
  {
   "cell_type": "code",
   "execution_count": 19,
   "metadata": {},
   "outputs": [
    {
     "name": "stdout",
     "output_type": "stream",
     "text": [
      "              precision    recall  f1-score   support\n",
      "\n",
      "           0       0.89      0.85      0.87       113\n",
      "           1       0.60      0.68      0.63        37\n",
      "\n",
      "    accuracy                           0.81       150\n",
      "   macro avg       0.74      0.76      0.75       150\n",
      "weighted avg       0.82      0.81      0.81       150\n",
      "\n",
      "Cross-Validated Accuracy: 0.78\n"
     ]
    }
   ],
   "source": [
    "print(classification_report(y_test, DT_y_predicted))\n",
    "\n",
    "scores = cross_val_score(DTClassifier, X, y, cv=10, scoring='accuracy')\n",
    "dt_accuracy = scores.mean()\n",
    "print('Cross-Validated Accuracy: %0.2f' % dt_accuracy)"
   ]
  },
  {
   "cell_type": "code",
   "execution_count": 20,
   "metadata": {},
   "outputs": [
    {
     "data": {
      "image/png": "[encoded data removed]",
      "text/plain": [
       "<Figure size 432x288 with 1 Axes>"
      ]
     },
     "metadata": {
      "needs_background": "light"
     },
     "output_type": "display_data"
    }
   ],
   "source": [
    "from sklearn.metrics import roc_curve, auc\n",
    "dt_pred_prob = DTClassifier.predict_proba(X_test)[:, 1]\n",
    "fpr, tpr, thresholds = roc_curve(y_test, dt_pred_prob)\n",
    "roc_auc = auc(fpr, tpr)\n",
    "lw = 2\n",
    "plt.plot(fpr, tpr,label='ROC curve Decision Tree (AUC = %0.2f)' % roc_auc)\n",
    "plt.xlim([0.0, 1])\n",
    "plt.ylim([0.0, 1])\n",
    "plt.title('ROC curve for Decision Tree CLASS 1')\n",
    "plt.xlabel('(1 - Specificity)')\n",
    "plt.ylabel('(Sensitivity)')\n",
    "plt.grid(True)\n",
    "plt.legend(loc=\"lower right\")\n",
    "plt.show()"
   ]
  },
  {
   "cell_type": "code",
   "execution_count": 21,
   "metadata": {},
   "outputs": [
    {
     "name": "stdout",
     "output_type": "stream",
     "text": [
      "SVM Score :\n"
     ]
    },
    {
     "data": {
      "text/plain": [
       "0.7533333333333333"
      ]
     },
     "execution_count": 21,
     "metadata": {},
     "output_type": "execute_result"
    }
   ],
   "source": [
    "from sklearn.svm import SVC\n",
    "\n",
    "#Support Vector Machine\n",
    "SVMClassifier = SVC(kernel='rbf',probability=True,random_state=42, gamma='auto') \n",
    "SVMClassifier.fit(X_train, y_train) \n",
    "print(\"SVM Score :\")\n",
    "SVMClassifier.score(X_test,y_test)"
   ]
  },
  {
   "cell_type": "code",
   "execution_count": 22,
   "metadata": {},
   "outputs": [
    {
     "data": {
      "text/plain": [
       "array([[113,   0],\n",
       "       [ 37,   0]], dtype=int64)"
      ]
     },
     "execution_count": 22,
     "metadata": {},
     "output_type": "execute_result"
    }
   ],
   "source": [
    "SVM_y_predicted = SVMClassifier.predict(X_test)\n",
    "class_names = np.unique(np.array(y_test))\n",
    "confusion_matrix(y_test, SVM_y_predicted)"
   ]
  },
  {
   "cell_type": "code",
   "execution_count": 23,
   "metadata": {},
   "outputs": [
    {
     "name": "stderr",
     "output_type": "stream",
     "text": [
      "C:\\ProgramData\\Anaconda3\\lib\\site-packages\\sklearn\\metrics\\_classification.py:1272: UndefinedMetricWarning: Precision and F-score are ill-defined and being set to 0.0 in labels with no predicted samples. Use `zero_division` parameter to control this behavior.\n",
      "  _warn_prf(average, modifier, msg_start, len(result))\n"
     ]
    },
    {
     "name": "stdout",
     "output_type": "stream",
     "text": [
      "              precision    recall  f1-score   support\n",
      "\n",
      "           0       0.75      1.00      0.86       113\n",
      "           1       0.00      0.00      0.00        37\n",
      "\n",
      "    accuracy                           0.75       150\n",
      "   macro avg       0.38      0.50      0.43       150\n",
      "weighted avg       0.57      0.75      0.65       150\n",
      "\n",
      "Cross-Validated Accuracy: 0.75\n"
     ]
    }
   ],
   "source": [
    "from sklearn.metrics import classification_report\n",
    "report = classification_report(y_test, SVM_y_predicted)\n",
    "print(report)\n",
    "\n",
    "scores = cross_val_score(SVMClassifier, X, y, cv=10, scoring='accuracy')\n",
    "svm_accuracy = scores.mean()\n",
    "print('Cross-Validated Accuracy: %0.2f' % svm_accuracy)"
   ]
  },
  {
   "cell_type": "code",
   "execution_count": 24,
   "metadata": {},
   "outputs": [
    {
     "data": {
      "image/png": "[encoded data removed]",
      "text/plain": [
       "<Figure size 432x288 with 1 Axes>"
      ]
     },
     "metadata": {
      "needs_background": "light"
     },
     "output_type": "display_data"
    }
   ],
   "source": [
    "svm_pred_prob = SVMClassifier.predict_proba(X_test)[:, 1]\n",
    "fpr, tpr, thresholds = roc_curve(y_test, svm_pred_prob)\n",
    "roc_auc = auc(fpr, tpr)\n",
    "lw = 2\n",
    "plt.plot(fpr, tpr,label='ROC curve SVM (AUC = %0.2f)' % roc_auc)\n",
    "plt.xlim([0.0, 1])\n",
    "plt.ylim([0.0, 1])\n",
    "plt.title('ROC curve for SVM CLASS 1')\n",
    "plt.xlabel('(1 - Specificity)')\n",
    "plt.ylabel('(Sensitivity)')\n",
    "plt.grid(True)\n",
    "plt.legend(loc=\"lower right\")\n",
    "plt.show()"
   ]
  },
  {
   "cell_type": "code",
   "execution_count": 25,
   "metadata": {},
   "outputs": [
    {
     "name": "stdout",
     "output_type": "stream",
     "text": [
      "Random Forest Score :\n"
     ]
    },
    {
     "data": {
      "text/plain": [
       "0.7466666666666667"
      ]
     },
     "execution_count": 25,
     "metadata": {},
     "output_type": "execute_result"
    }
   ],
   "source": [
    "from sklearn.ensemble import RandomForestClassifier\n",
    "from sklearn.model_selection import cross_val_score\n",
    "\n",
    "#Random Forest\n",
    "RFClassifier = RandomForestClassifier()\n",
    "RFClassifier.fit(X_train, y_train) \n",
    "print(\"Random Forest Score :\")\n",
    "RFClassifier.score(X_test,y_test)"
   ]
  },
  {
   "cell_type": "code",
   "execution_count": 26,
   "metadata": {},
   "outputs": [
    {
     "data": {
      "text/plain": [
       "array([[102,  11],\n",
       "       [ 27,  10]], dtype=int64)"
      ]
     },
     "execution_count": 26,
     "metadata": {},
     "output_type": "execute_result"
    }
   ],
   "source": [
    "RF_y_predicted = RFClassifier.predict(X_test)\n",
    "class_names = np.unique(np.array(y_test))\n",
    "confusion_matrix(y_test, RF_y_predicted)"
   ]
  },
  {
   "cell_type": "code",
   "execution_count": 27,
   "metadata": {},
   "outputs": [
    {
     "name": "stdout",
     "output_type": "stream",
     "text": [
      "              precision    recall  f1-score   support\n",
      "\n",
      "           0       0.79      0.90      0.84       113\n",
      "           1       0.48      0.27      0.34        37\n",
      "\n",
      "    accuracy                           0.75       150\n",
      "   macro avg       0.63      0.59      0.59       150\n",
      "weighted avg       0.71      0.75      0.72       150\n",
      "\n",
      "Cross-Validated Accuracy: 0.78\n"
     ]
    }
   ],
   "source": [
    "from sklearn.metrics import classification_report\n",
    "report = classification_report(y_test, RF_y_predicted)\n",
    "print(report)\n",
    "\n",
    "scores = cross_val_score(RFClassifier, X, y, cv=10, scoring='accuracy')\n",
    "rf_accuracy = scores.mean()\n",
    "print('Cross-Validated Accuracy: %0.2f' % rf_accuracy)"
   ]
  },
  {
   "cell_type": "code",
   "execution_count": 28,
   "metadata": {},
   "outputs": [
    {
     "data": {
      "image/png": "[encoded data removed]",
      "text/plain": [
       "<Figure size 432x288 with 1 Axes>"
      ]
     },
     "metadata": {
      "needs_background": "light"
     },
     "output_type": "display_data"
    }
   ],
   "source": [
    "from sklearn.metrics import roc_curve, auc\n",
    "rf_pred_prob = RFClassifier.predict_proba(X_test)[:, 1]\n",
    "fpr, tpr, thresholds = roc_curve(y_test, rf_pred_prob)\n",
    "roc_auc = auc(fpr, tpr)\n",
    "lw = 2\n",
    "plt.plot(fpr, tpr,label='ROC curve  Random Forest (AUC = %0.2f)' % roc_auc)\n",
    "plt.xlim([0.0, 1])\n",
    "plt.ylim([0.0, 1])\n",
    "plt.title('ROC curve for  random forest CLASS 1')\n",
    "plt.xlabel('(1 - Specificity)')\n",
    "plt.ylabel('(Sensitivity)')\n",
    "plt.grid(True)\n",
    "plt.legend(loc=\"lower right\")\n",
    "plt.show()"
   ]
  },
  {
   "cell_type": "code",
   "execution_count": 29,
   "metadata": {},
   "outputs": [
    {
     "name": "stdout",
     "output_type": "stream",
     "text": [
      "Balanced Random Forest Score :\n"
     ]
    },
    {
     "data": {
      "text/plain": [
       "0.7866666666666666"
      ]
     },
     "execution_count": 29,
     "metadata": {},
     "output_type": "execute_result"
    }
   ],
   "source": [
    "from imblearn.ensemble import BalancedRandomForestClassifier\n",
    "#Balanced Random Forest\n",
    "BRFClassifier=BalancedRandomForestClassifier()\n",
    "BRFClassifier.fit(X_train, y_train) \n",
    "print(\"Balanced Random Forest Score :\")\n",
    "BRFClassifier.score(X_test,y_test)"
   ]
  },
  {
   "cell_type": "code",
   "execution_count": 30,
   "metadata": {},
   "outputs": [
    {
     "name": "stdout",
     "output_type": "stream",
     "text": [
      "              precision    recall  f1-score   support\n",
      "\n",
      "           0       0.88      0.83      0.85       113\n",
      "           1       0.56      0.65      0.60        37\n",
      "\n",
      "    accuracy                           0.79       150\n",
      "   macro avg       0.72      0.74      0.73       150\n",
      "weighted avg       0.80      0.79      0.79       150\n",
      "\n",
      "Cross-Validated Accuracy: 0.83\n"
     ]
    }
   ],
   "source": [
    "BRF_y_predicted = BRFClassifier.predict(X_test)\n",
    "report = classification_report(y_test, BRF_y_predicted)\n",
    "print(report)\n",
    "\n",
    "scores = cross_val_score(BRFClassifier, X, y, cv=10, scoring='accuracy')\n",
    "brf_accuracy = scores.mean()\n",
    "print('Cross-Validated Accuracy: %0.2f' % brf_accuracy)"
   ]
  },
  {
   "cell_type": "code",
   "execution_count": 31,
   "metadata": {},
   "outputs": [
    {
     "data": {
      "image/png": "[encoded data removed]",
      "text/plain": [
       "<Figure size 432x288 with 1 Axes>"
      ]
     },
     "metadata": {
      "needs_background": "light"
     },
     "output_type": "display_data"
    }
   ],
   "source": [
    "brf_pred_prob = BRFClassifier.predict_proba(X_test)[:, 1]\n",
    "fpr, tpr, thresholds = roc_curve(y_test, brf_pred_prob)\n",
    "roc_auc = auc(fpr, tpr)\n",
    "lw = 2\n",
    "plt.plot(fpr, tpr,label='ROC curve Balanced Random Forest (AUC = %0.2f)' % roc_auc)\n",
    "plt.xlim([0.0, 1])\n",
    "plt.ylim([0.0, 1])\n",
    "plt.title('ROC curve for Balanced random forest CLASS 1')\n",
    "plt.xlabel('(1 - Specificity)')\n",
    "plt.ylabel('(Sensitivity)')\n",
    "plt.grid(True)\n",
    "plt.legend(loc=\"lower right\")\n",
    "plt.show()"
   ]
  },
  {
   "cell_type": "code",
   "execution_count": 32,
   "metadata": {},
   "outputs": [
    {
     "name": "stdout",
     "output_type": "stream",
     "text": [
      "Linear Discriminant Analysis Score :\n"
     ]
    },
    {
     "data": {
      "text/plain": [
       "0.8266666666666667"
      ]
     },
     "execution_count": 32,
     "metadata": {},
     "output_type": "execute_result"
    }
   ],
   "source": [
    "#LDA model\n",
    "from sklearn.discriminant_analysis import LinearDiscriminantAnalysis as LDA\n",
    "lda = LDA()\n",
    "lda.fit(X_train, y_train) \n",
    "print(\"Linear Discriminant Analysis Score :\")\n",
    "lda.score(X_test,y_test)"
   ]
  },
  {
   "cell_type": "code",
   "execution_count": 33,
   "metadata": {},
   "outputs": [
    {
     "name": "stdout",
     "output_type": "stream",
     "text": [
      "              precision    recall  f1-score   support\n",
      "\n",
      "           0       0.88      0.89      0.89       113\n",
      "           1       0.66      0.62      0.64        37\n",
      "\n",
      "    accuracy                           0.83       150\n",
      "   macro avg       0.77      0.76      0.76       150\n",
      "weighted avg       0.82      0.83      0.83       150\n",
      "\n",
      "Cross-Validated Accuracy: 0.84\n"
     ]
    }
   ],
   "source": [
    "lda_y_predicted = lda.predict(X_test)\n",
    "report = classification_report(y_test, lda_y_predicted)\n",
    "print(report)\n",
    "\n",
    "scores = cross_val_score(lda, X, y, cv=10, scoring='accuracy')\n",
    "lda_accuracy = scores.mean()\n",
    "print('Cross-Validated Accuracy: %0.2f' % lda_accuracy)"
   ]
  },
  {
   "cell_type": "code",
   "execution_count": 34,
   "metadata": {},
   "outputs": [
    {
     "data": {
      "image/png": "[encoded data removed]",
      "text/plain": [
       "<Figure size 432x288 with 1 Axes>"
      ]
     },
     "metadata": {
      "needs_background": "light"
     },
     "output_type": "display_data"
    }
   ],
   "source": [
    "lda_pred_prob = lda.predict_proba(X_test)[:, 1]\n",
    "fpr, tpr, thresholds = roc_curve(y_test, lda_pred_prob)\n",
    "roc_auc = auc(fpr, tpr)\n",
    "lw = 2\n",
    "plt.plot(fpr, tpr,label='ROC curve LDA (AUC = %0.2f)' % roc_auc)\n",
    "plt.xlim([0.0, 1])\n",
    "plt.ylim([0.0, 1])\n",
    "plt.title('ROC curve for LDA CLASS 1')\n",
    "plt.xlabel('(1 - Specificity)')\n",
    "plt.ylabel('(Sensitivity)')\n",
    "plt.grid(True)\n",
    "plt.legend(loc=\"lower right\")\n",
    "plt.show()"
   ]
  },
  {
   "cell_type": "code",
   "execution_count": 35,
   "metadata": {},
   "outputs": [
    {
     "name": "stdout",
     "output_type": "stream",
     "text": [
      "Naive Bayes Classifier Score :\n"
     ]
    },
    {
     "data": {
      "text/plain": [
       "0.8"
      ]
     },
     "execution_count": 35,
     "metadata": {},
     "output_type": "execute_result"
    }
   ],
   "source": [
    "from sklearn.naive_bayes import BernoulliNB\n",
    "#Naive Bayes Classifier\n",
    "NBClassifier = BernoulliNB()\n",
    "NBClassifier.fit(X_train, y_train)\n",
    "print(\"Naive Bayes Classifier Score :\")\n",
    "NBClassifier.score(X_test,y_test)"
   ]
  },
  {
   "cell_type": "code",
   "execution_count": 36,
   "metadata": {},
   "outputs": [
    {
     "name": "stdout",
     "output_type": "stream",
     "text": [
      "              precision    recall  f1-score   support\n",
      "\n",
      "           0       0.87      0.86      0.87       113\n",
      "           1       0.59      0.62      0.61        37\n",
      "\n",
      "    accuracy                           0.80       150\n",
      "   macro avg       0.73      0.74      0.74       150\n",
      "weighted avg       0.80      0.80      0.80       150\n",
      "\n",
      "Cross-Validated Accuracy: 0.82\n"
     ]
    }
   ],
   "source": [
    "nb_y_predicted = NBClassifier.predict(X_test)\n",
    "report = classification_report(y_test, nb_y_predicted)\n",
    "\n",
    "print(report)\n",
    "\n",
    "scores = cross_val_score(NBClassifier, X, y, cv=10, scoring='accuracy')\n",
    "nb_accuracy = scores.mean()\n",
    "print('Cross-Validated Accuracy: %0.2f' % nb_accuracy)"
   ]
  },
  {
   "cell_type": "code",
   "execution_count": 37,
   "metadata": {},
   "outputs": [
    {
     "name": "stdout",
     "output_type": "stream",
     "text": [
      "XGBClassifier Score :\n"
     ]
    },
    {
     "data": {
      "text/plain": [
       "0.8266666666666667"
      ]
     },
     "execution_count": 37,
     "metadata": {},
     "output_type": "execute_result"
    }
   ],
   "source": [
    "from xgboost import XGBClassifier\n",
    "#XGBOOST Classifier\n",
    "model_xgb = XGBClassifier()\n",
    "model_xgb.fit(X_train, y_train, verbose=False) \n",
    "print(\"XGBClassifier Score :\")\n",
    "model_xgb.score(X_test,y_test)"
   ]
  },
  {
   "cell_type": "code",
   "execution_count": 38,
   "metadata": {},
   "outputs": [
    {
     "name": "stdout",
     "output_type": "stream",
     "text": [
      "              precision    recall  f1-score   support\n",
      "\n",
      "           0       0.88      0.89      0.89       113\n",
      "           1       0.66      0.62      0.64        37\n",
      "\n",
      "    accuracy                           0.83       150\n",
      "   macro avg       0.77      0.76      0.76       150\n",
      "weighted avg       0.82      0.83      0.83       150\n",
      "\n",
      "Cross-Validated Accuracy: 0.82\n"
     ]
    }
   ],
   "source": [
    "xgboost_y_predicted = model_xgb.predict(X_test)\n",
    "report = classification_report(y_test, xgboost_y_predicted)\n",
    "\n",
    "print(report)\n",
    "\n",
    "scores = cross_val_score(model_xgb, X, y, cv=10, scoring='accuracy')\n",
    "xgb_accuracy = scores.mean()\n",
    "print('Cross-Validated Accuracy: %0.2f' % xgb_accuracy)"
   ]
  },
  {
   "cell_type": "code",
   "execution_count": 39,
   "metadata": {},
   "outputs": [
    {
     "data": {
      "image/png": "[encoded data removed]",
      "text/plain": [
       "<Figure size 432x288 with 1 Axes>"
      ]
     },
     "metadata": {
      "needs_background": "light"
     },
     "output_type": "display_data"
    }
   ],
   "source": [
    "xgb_pred_prob = model_xgb.predict_proba(X_test)[:, 1]\n",
    "fpr, tpr, thresholds = roc_curve(y_test, xgb_pred_prob)\n",
    "roc_auc = auc(fpr, tpr)\n",
    "lw = 2\n",
    "plt.plot(fpr, tpr,label='ROC curve XGBOOST (AUC = %0.2f)' % roc_auc)\n",
    "plt.xlim([0.0, 1])\n",
    "plt.ylim([0.0, 1])\n",
    "plt.title('ROC curve for XGBOOST CLASS 1')\n",
    "plt.xlabel('(1 - Specificity)')\n",
    "plt.ylabel('(Sensitivity)')\n",
    "plt.grid(True)\n",
    "plt.legend(loc=\"lower right\")\n",
    "plt.show()"
   ]
  },
  {
   "cell_type": "code",
   "execution_count": 40,
   "metadata": {},
   "outputs": [
    {
     "name": "stdout",
     "output_type": "stream",
     "text": [
      "MLPClassifier Score :\n"
     ]
    },
    {
     "name": "stderr",
     "output_type": "stream",
     "text": [
      "C:\\ProgramData\\Anaconda3\\lib\\site-packages\\sklearn\\neural_network\\_multilayer_perceptron.py:571: ConvergenceWarning: Stochastic Optimizer: Maximum iterations (200) reached and the optimization hasn't converged yet.\n",
      "  % self.max_iter, ConvergenceWarning)\n"
     ]
    },
    {
     "data": {
      "text/plain": [
       "0.74"
      ]
     },
     "execution_count": 40,
     "metadata": {},
     "output_type": "execute_result"
    }
   ],
   "source": [
    "from sklearn.neural_network import MLPClassifier\n",
    "#Newral Network Classifier\n",
    "clf_MLP = MLPClassifier(alpha=1e-05, hidden_layer_sizes=(64))\n",
    "clf_MLP.fit(X_train, y_train) \n",
    "print(\"MLPClassifier Score :\")\n",
    "clf_MLP.score(X_test,y_test)"
   ]
  },
  {
   "cell_type": "code",
   "execution_count": 41,
   "metadata": {},
   "outputs": [
    {
     "name": "stdout",
     "output_type": "stream",
     "text": [
      "              precision    recall  f1-score   support\n",
      "\n",
      "           0       0.75      0.98      0.85       113\n",
      "           1       0.00      0.00      0.00        37\n",
      "\n",
      "    accuracy                           0.74       150\n",
      "   macro avg       0.38      0.49      0.43       150\n",
      "weighted avg       0.56      0.74      0.64       150\n",
      "\n"
     ]
    },
    {
     "name": "stderr",
     "output_type": "stream",
     "text": [
      "C:\\ProgramData\\Anaconda3\\lib\\site-packages\\sklearn\\neural_network\\_multilayer_perceptron.py:571: ConvergenceWarning: Stochastic Optimizer: Maximum iterations (200) reached and the optimization hasn't converged yet.\n",
      "  % self.max_iter, ConvergenceWarning)\n",
      "C:\\ProgramData\\Anaconda3\\lib\\site-packages\\sklearn\\neural_network\\_multilayer_perceptron.py:571: ConvergenceWarning: Stochastic Optimizer: Maximum iterations (200) reached and the optimization hasn't converged yet.\n",
      "  % self.max_iter, ConvergenceWarning)\n",
      "C:\\ProgramData\\Anaconda3\\lib\\site-packages\\sklearn\\neural_network\\_multilayer_perceptron.py:571: ConvergenceWarning: Stochastic Optimizer: Maximum iterations (200) reached and the optimization hasn't converged yet.\n",
      "  % self.max_iter, ConvergenceWarning)\n",
      "C:\\ProgramData\\Anaconda3\\lib\\site-packages\\sklearn\\neural_network\\_multilayer_perceptron.py:571: ConvergenceWarning: Stochastic Optimizer: Maximum iterations (200) reached and the optimization hasn't converged yet.\n",
      "  % self.max_iter, ConvergenceWarning)\n",
      "C:\\ProgramData\\Anaconda3\\lib\\site-packages\\sklearn\\neural_network\\_multilayer_perceptron.py:571: ConvergenceWarning: Stochastic Optimizer: Maximum iterations (200) reached and the optimization hasn't converged yet.\n",
      "  % self.max_iter, ConvergenceWarning)\n",
      "C:\\ProgramData\\Anaconda3\\lib\\site-packages\\sklearn\\neural_network\\_multilayer_perceptron.py:571: ConvergenceWarning: Stochastic Optimizer: Maximum iterations (200) reached and the optimization hasn't converged yet.\n",
      "  % self.max_iter, ConvergenceWarning)\n",
      "C:\\ProgramData\\Anaconda3\\lib\\site-packages\\sklearn\\neural_network\\_multilayer_perceptron.py:571: ConvergenceWarning: Stochastic Optimizer: Maximum iterations (200) reached and the optimization hasn't converged yet.\n",
      "  % self.max_iter, ConvergenceWarning)\n",
      "C:\\ProgramData\\Anaconda3\\lib\\site-packages\\sklearn\\neural_network\\_multilayer_perceptron.py:571: ConvergenceWarning: Stochastic Optimizer: Maximum iterations (200) reached and the optimization hasn't converged yet.\n",
      "  % self.max_iter, ConvergenceWarning)\n",
      "C:\\ProgramData\\Anaconda3\\lib\\site-packages\\sklearn\\neural_network\\_multilayer_perceptron.py:571: ConvergenceWarning: Stochastic Optimizer: Maximum iterations (200) reached and the optimization hasn't converged yet.\n",
      "  % self.max_iter, ConvergenceWarning)\n"
     ]
    },
    {
     "name": "stdout",
     "output_type": "stream",
     "text": [
      "Cross-Validated Accuracy: 0.60\n"
     ]
    },
    {
     "name": "stderr",
     "output_type": "stream",
     "text": [
      "C:\\ProgramData\\Anaconda3\\lib\\site-packages\\sklearn\\neural_network\\_multilayer_perceptron.py:571: ConvergenceWarning: Stochastic Optimizer: Maximum iterations (200) reached and the optimization hasn't converged yet.\n",
      "  % self.max_iter, ConvergenceWarning)\n"
     ]
    }
   ],
   "source": [
    "mlp_y_predicted = clf_MLP.predict(X_test)\n",
    "report = classification_report(y_test, mlp_y_predicted)\n",
    "\n",
    "print(report)\n",
    "\n",
    "scores = cross_val_score(clf_MLP, X, y, cv=10, scoring='accuracy')\n",
    "mlp_accuracy = scores.mean()\n",
    "print('Cross-Validated Accuracy: %0.2f' % mlp_accuracy)"
   ]
  },
  {
   "cell_type": "code",
   "execution_count": 42,
   "metadata": {},
   "outputs": [
    {
     "data": {
      "image/png": "[encoded data removed]",
      "text/plain": [
       "<Figure size 720x576 with 1 Axes>"
      ]
     },
     "metadata": {
      "needs_background": "light"
     },
     "output_type": "display_data"
    },
    {
     "name": "stdout",
     "output_type": "stream",
     "text": [
      "The predictive power of each model expressed by ROC curves. For instance, Linear Discriminant Analysis and XGBOOST model has        higher probability of accurate prediction of correct class member, and gaining high level of accuracy prediction probability        as compared to Random Forest, KNN, Naive Bayes, Neural Network and SVM models.\n"
     ]
    }
   ],
   "source": [
    "#Comparing the models\n",
    "fpr9, tpr9, thresholds9 = roc_curve(y_test, nb_y_predicted)\n",
    "roc_auc9 = auc(fpr9, tpr9)\n",
    "\n",
    "fpr8, tpr8, thresholds8 = roc_curve(y_test, mlp_y_predicted)\n",
    "roc_auc8 = auc(fpr8, tpr8)\n",
    "\n",
    "fpr7, tpr7, thresholds7 = roc_curve(y_test, DT_y_predicted)\n",
    "roc_auc7 = auc(fpr7, tpr7)\n",
    "\n",
    "fpr6, tpr6, thresholds6 = roc_curve(y_test, lda_pred_prob)\n",
    "roc_auc6 = auc(fpr6, tpr6)\n",
    "\n",
    "fpr5, tpr5, thresholds5 = roc_curve(y_test, knn_pred_prob)\n",
    "roc_auc5 = auc(fpr5, tpr5)\n",
    "\n",
    "fpr4, tpr4, thresholds4 = roc_curve(y_test, rf_pred_prob)\n",
    "roc_auc4 = auc(fpr4, tpr4)\n",
    "\n",
    "fpr3, tpr3, thresholds3 = roc_curve(y_test, xgb_pred_prob)\n",
    "roc_auc3 = auc(fpr3, tpr3)\n",
    "\n",
    "fpr2, tpr2, thresholds2 = roc_curve(y_test, brf_pred_prob)\n",
    "roc_auc2 = auc(fpr2, tpr2)\n",
    "\n",
    "fpr1, tpr1, thresholds1 = roc_curve(y_test,svm_pred_prob)\n",
    "roc_auc1 = auc(fpr1, tpr1)\n",
    "lw = 2\n",
    "plt.figure(figsize=(10, 8))\n",
    "plt.plot(fpr9, tpr9,color='brown',label='ROC NB (AUC = %0.2f, ACC = %0.2f)' % (roc_auc9, nb_accuracy))\n",
    "plt.plot(fpr8, tpr8,color='yellow',label='ROC MLP (AUC = %0.2f, ACC = %0.2f)' % (roc_auc8, mlp_accuracy))\n",
    "plt.plot(fpr7, tpr7,color='cyan',label='ROC Decision Tree (AUC = %0.2f, ACC = %0.2f)' % (roc_auc7, dt_accuracy))\n",
    "plt.plot(fpr6, tpr6,color='orange',label='ROC LDA (AUC = %0.2f, ACC = %0.2f)' % (roc_auc6, lda_accuracy))\n",
    "plt.plot(fpr5, tpr5,color='green',label='ROC KNN (AUC = %0.2f, ACC = %0.2f)' % (roc_auc5, knn_accuracy))\n",
    "plt.plot(fpr4, tpr4,color='red',label='ROC RF (AUC = %0.2f, ACC = %0.2f)' % (roc_auc4, rf_accuracy))\n",
    "plt.plot(fpr3, tpr3,color='blue',label='ROC XGBOOST (AUC = %0.2f, ACC = %0.2f)' % (roc_auc3, xgb_accuracy))\n",
    "plt.plot(fpr2, tpr2,color='black',label='ROC BRF (AUC = %0.2f, ACC = %0.2f)' % (roc_auc2, brf_accuracy))\n",
    "plt.plot(fpr1, tpr1,color='magenta',label='ROC SVM (AUC = %0.2f, ACC = %0.2f)' % (roc_auc1, svm_accuracy))\n",
    "plt.xlim([0.0, 1.0])\n",
    "plt.ylim([0.0, 1.0])\n",
    "plt.title('ROC curve ')\n",
    "plt.xlabel('(1 - Specificity)')\n",
    "plt.ylabel('(Sensitivity)')\n",
    "plt.grid(True)\n",
    "plt.legend(loc=\"lower right\")\n",
    "plt.show()\n",
    "\n",
    "print(\"The predictive power of each model expressed by ROC curves. For instance, Linear Discriminant Analysis and XGBOOST model has\\\n",
    "        higher probability of accurate prediction of correct class member, and gaining high level of accuracy prediction probability\\\n",
    "        as compared to Random Forest, KNN, Naive Bayes, Neural Network and SVM models.\")"
   ]
  },
  {
   "cell_type": "code",
   "execution_count": 43,
   "metadata": {},
   "outputs": [
    {
     "data": {
      "text/html": [
       "<div>\n",
       "<style scoped>\n",
       "    .dataframe tbody tr th:only-of-type {\n",
       "        vertical-align: middle;\n",
       "    }\n",
       "\n",
       "    .dataframe tbody tr th {\n",
       "        vertical-align: top;\n",
       "    }\n",
       "\n",
       "    .dataframe thead th {\n",
       "        text-align: right;\n",
       "    }\n",
       "</style>\n",
       "<table border=\"1\" class=\"dataframe\">\n",
       "  <thead>\n",
       "    <tr style=\"text-align: right;\">\n",
       "      <th></th>\n",
       "      <th>feature</th>\n",
       "      <th>imp</th>\n",
       "    </tr>\n",
       "  </thead>\n",
       "  <tbody>\n",
       "    <tr>\n",
       "      <td>79</td>\n",
       "      <td>incident_severity_Major Damage</td>\n",
       "      <td>0.136822</td>\n",
       "    </tr>\n",
       "    <tr>\n",
       "      <td>50</td>\n",
       "      <td>insured_hobbies_chess</td>\n",
       "      <td>0.072968</td>\n",
       "    </tr>\n",
       "    <tr>\n",
       "      <td>51</td>\n",
       "      <td>insured_hobbies_cross-fit</td>\n",
       "      <td>0.050191</td>\n",
       "    </tr>\n",
       "    <tr>\n",
       "      <td>44</td>\n",
       "      <td>insured_occupation_transport-moving</td>\n",
       "      <td>0.022682</td>\n",
       "    </tr>\n",
       "    <tr>\n",
       "      <td>27</td>\n",
       "      <td>insured_education_level_JD</td>\n",
       "      <td>0.019782</td>\n",
       "    </tr>\n",
       "    <tr>\n",
       "      <td>150</td>\n",
       "      <td>auto_model_Passat</td>\n",
       "      <td>0.018868</td>\n",
       "    </tr>\n",
       "    <tr>\n",
       "      <td>76</td>\n",
       "      <td>collision_type_Front Collision</td>\n",
       "      <td>0.018670</td>\n",
       "    </tr>\n",
       "    <tr>\n",
       "      <td>116</td>\n",
       "      <td>auto_make_Mercedes</td>\n",
       "      <td>0.018290</td>\n",
       "    </tr>\n",
       "    <tr>\n",
       "      <td>26</td>\n",
       "      <td>insured_education_level_High School</td>\n",
       "      <td>0.017856</td>\n",
       "    </tr>\n",
       "    <tr>\n",
       "      <td>98</td>\n",
       "      <td>incident_city_Northbend</td>\n",
       "      <td>0.017273</td>\n",
       "    </tr>\n",
       "    <tr>\n",
       "      <td>94</td>\n",
       "      <td>incident_state_WV</td>\n",
       "      <td>0.016270</td>\n",
       "    </tr>\n",
       "    <tr>\n",
       "      <td>77</td>\n",
       "      <td>collision_type_Rear Collision</td>\n",
       "      <td>0.014769</td>\n",
       "    </tr>\n",
       "    <tr>\n",
       "      <td>151</td>\n",
       "      <td>auto_model_Pathfinder</td>\n",
       "      <td>0.014738</td>\n",
       "    </tr>\n",
       "    <tr>\n",
       "      <td>67</td>\n",
       "      <td>insured_relationship_other-relative</td>\n",
       "      <td>0.014554</td>\n",
       "    </tr>\n",
       "    <tr>\n",
       "      <td>93</td>\n",
       "      <td>incident_state_VA</td>\n",
       "      <td>0.014317</td>\n",
       "    </tr>\n",
       "  </tbody>\n",
       "</table>\n",
       "</div>"
      ],
      "text/plain": [
       "                                 feature       imp\n",
       "79        incident_severity_Major Damage  0.136822\n",
       "50                 insured_hobbies_chess  0.072968\n",
       "51             insured_hobbies_cross-fit  0.050191\n",
       "44   insured_occupation_transport-moving  0.022682\n",
       "27            insured_education_level_JD  0.019782\n",
       "150                    auto_model_Passat  0.018868\n",
       "76        collision_type_Front Collision  0.018670\n",
       "116                   auto_make_Mercedes  0.018290\n",
       "26   insured_education_level_High School  0.017856\n",
       "98               incident_city_Northbend  0.017273\n",
       "94                     incident_state_WV  0.016270\n",
       "77         collision_type_Rear Collision  0.014769\n",
       "151                auto_model_Pathfinder  0.014738\n",
       "67   insured_relationship_other-relative  0.014554\n",
       "93                     incident_state_VA  0.014317"
      ]
     },
     "execution_count": 43,
     "metadata": {},
     "output_type": "execute_result"
    }
   ],
   "source": [
    "#XGBOOST model has better ROC Curve and Cross-validated accuracy, plot feature importance\n",
    "def rf_feat_importance(m, df):\n",
    "    return pd.DataFrame({'feature':df.columns, 'imp':m.feature_importances_}\n",
    "                       ).sort_values('imp', ascending=False)\n",
    "def plot_fi(fi): \n",
    "    return fi.plot('feature', 'imp', 'barh', figsize=(15,7), legend=False)\n",
    "\n",
    "fi = rf_feat_importance(model_xgb, X_train); fi[:15]"
   ]
  },
  {
   "cell_type": "code",
   "execution_count": 44,
   "metadata": {
    "scrolled": false
   },
   "outputs": [
    {
     "data": {
      "text/plain": [
       "<matplotlib.axes._subplots.AxesSubplot at 0x20c3e1169e8>"
      ]
     },
     "execution_count": 44,
     "metadata": {},
     "output_type": "execute_result"
    },
    {
     "data": {
      "image/png": "[encoded data removed]",
      "text/plain": [
       "<Figure size 1080x504 with 1 Axes>"
      ]
     },
     "metadata": {
      "needs_background": "light"
     },
     "output_type": "display_data"
    }
   ],
   "source": [
    "plot_fi(fi[:30])"
   ]
  },
  {
   "cell_type": "code",
   "execution_count": 45,
   "metadata": {},
   "outputs": [],
   "source": [
    "#As XGBOOST has the best results with an AUC of 0.82, using this model for scoring\n",
    "test_target = y_test.copy()\n",
    "test_target.reset_index(drop=True, inplace=True)\n",
    "test_target = test_target.replace({1:'Y', 0:'N'})\n",
    "\n",
    "predicted_target = model_xgb.predict(X_test)\n",
    "predicted_target = pd.Series(predicted_target).replace({1:'Y', 0:'N'})"
   ]
  },
  {
   "cell_type": "code",
   "execution_count": 46,
   "metadata": {},
   "outputs": [
    {
     "data": {
      "text/html": [
       "<div>\n",
       "<style scoped>\n",
       "    .dataframe tbody tr th:only-of-type {\n",
       "        vertical-align: middle;\n",
       "    }\n",
       "\n",
       "    .dataframe tbody tr th {\n",
       "        vertical-align: top;\n",
       "    }\n",
       "\n",
       "    .dataframe thead th {\n",
       "        text-align: right;\n",
       "    }\n",
       "</style>\n",
       "<table border=\"1\" class=\"dataframe\">\n",
       "  <thead>\n",
       "    <tr style=\"text-align: right;\">\n",
       "      <th></th>\n",
       "      <th>RealClass</th>\n",
       "      <th>PredictedClass</th>\n",
       "      <th>rank</th>\n",
       "    </tr>\n",
       "  </thead>\n",
       "  <tbody>\n",
       "    <tr>\n",
       "      <td>7</td>\n",
       "      <td>Y</td>\n",
       "      <td>Y</td>\n",
       "      <td>0.942978</td>\n",
       "    </tr>\n",
       "    <tr>\n",
       "      <td>44</td>\n",
       "      <td>N</td>\n",
       "      <td>Y</td>\n",
       "      <td>0.919296</td>\n",
       "    </tr>\n",
       "    <tr>\n",
       "      <td>127</td>\n",
       "      <td>Y</td>\n",
       "      <td>Y</td>\n",
       "      <td>0.914629</td>\n",
       "    </tr>\n",
       "    <tr>\n",
       "      <td>82</td>\n",
       "      <td>N</td>\n",
       "      <td>Y</td>\n",
       "      <td>0.817602</td>\n",
       "    </tr>\n",
       "    <tr>\n",
       "      <td>76</td>\n",
       "      <td>Y</td>\n",
       "      <td>Y</td>\n",
       "      <td>0.808937</td>\n",
       "    </tr>\n",
       "  </tbody>\n",
       "</table>\n",
       "</div>"
      ],
      "text/plain": [
       "    RealClass PredictedClass      rank\n",
       "7           Y              Y  0.942978\n",
       "44          N              Y  0.919296\n",
       "127         Y              Y  0.914629\n",
       "82          N              Y  0.817602\n",
       "76          Y              Y  0.808937"
      ]
     },
     "execution_count": 46,
     "metadata": {},
     "output_type": "execute_result"
    }
   ],
   "source": [
    "ranks=pd.DataFrame(data=\n",
    "                   { \n",
    "                       'RealClass':test_target, \n",
    "                       'PredictedClass':predicted_target,\n",
    "                       'rank':xgb_pred_prob\n",
    "                   })\n",
    "ranks.sort_values(by=['rank'],ascending=False,inplace=True)\n",
    "ranks.head()"
   ]
  },
  {
   "cell_type": "code",
   "execution_count": 47,
   "metadata": {},
   "outputs": [
    {
     "data": {
      "text/html": [
       "<div>\n",
       "<style scoped>\n",
       "    .dataframe tbody tr th:only-of-type {\n",
       "        vertical-align: middle;\n",
       "    }\n",
       "\n",
       "    .dataframe tbody tr th {\n",
       "        vertical-align: top;\n",
       "    }\n",
       "\n",
       "    .dataframe thead th {\n",
       "        text-align: right;\n",
       "    }\n",
       "</style>\n",
       "<table border=\"1\" class=\"dataframe\">\n",
       "  <thead>\n",
       "    <tr style=\"text-align: right;\">\n",
       "      <th></th>\n",
       "      <th>RealClass</th>\n",
       "      <th>PredictedClass</th>\n",
       "      <th>rank</th>\n",
       "    </tr>\n",
       "  </thead>\n",
       "  <tbody>\n",
       "    <tr>\n",
       "      <td>7</td>\n",
       "      <td>Y</td>\n",
       "      <td>Y</td>\n",
       "      <td>0.942978</td>\n",
       "    </tr>\n",
       "    <tr>\n",
       "      <td>44</td>\n",
       "      <td>N</td>\n",
       "      <td>Y</td>\n",
       "      <td>0.919296</td>\n",
       "    </tr>\n",
       "    <tr>\n",
       "      <td>127</td>\n",
       "      <td>Y</td>\n",
       "      <td>Y</td>\n",
       "      <td>0.914629</td>\n",
       "    </tr>\n",
       "    <tr>\n",
       "      <td>82</td>\n",
       "      <td>N</td>\n",
       "      <td>Y</td>\n",
       "      <td>0.817602</td>\n",
       "    </tr>\n",
       "    <tr>\n",
       "      <td>76</td>\n",
       "      <td>Y</td>\n",
       "      <td>Y</td>\n",
       "      <td>0.808937</td>\n",
       "    </tr>\n",
       "  </tbody>\n",
       "</table>\n",
       "</div>"
      ],
      "text/plain": [
       "    RealClass PredictedClass      rank\n",
       "7           Y              Y  0.942978\n",
       "44          N              Y  0.919296\n",
       "127         Y              Y  0.914629\n",
       "82          N              Y  0.817602\n",
       "76          Y              Y  0.808937"
      ]
     },
     "execution_count": 47,
     "metadata": {},
     "output_type": "execute_result"
    }
   ],
   "source": [
    "top = ranks.where(ranks['rank']>0.5,).dropna()\n",
    "top.head()"
   ]
  }
 ],
 "metadata": {
  "kernelspec": {
   "display_name": "Python 3",
   "language": "python",
   "name": "python3"
  },
  "language_info": {
   "codemirror_mode": {
    "name": "ipython",
    "version": 3
   },
   "file_extension": ".py",
   "mimetype": "text/x-python",
   "name": "python",
   "nbconvert_exporter": "python",
   "pygments_lexer": "ipython3",
   "version": "3.7.3"
  }
 },
 "nbformat": 4,
 "nbformat_minor": 2
}
